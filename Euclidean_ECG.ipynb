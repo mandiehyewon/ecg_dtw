{
 "cells": [
  {
   "cell_type": "markdown",
   "id": "5bada716",
   "metadata": {},
   "source": [
    "# Euclidean Calculation between two ECGs\n",
    "\n",
    "First, let's import modules and define functions!"
   ]
  },
  {
   "cell_type": "code",
   "execution_count": null,
   "id": "75db03d5",
   "metadata": {},
   "outputs": [],
   "source": [
    "from joblib import Parallel, delayed\n",
    "from tqdm.notebook import tqdm\n",
    "from scipy.spatial.distance import euclidean\n",
    "from datetime import datetime\n",
    "import random\n",
    "import numpy as np\n",
    "from math import sqrt\n",
    "import h5py\n",
    "import hdf5plugin\n",
    "from typing import List\n",
    "import matplotlib.pyplot as plt\n",
    "\n",
    "ALL_LEADS = ['I', 'II', 'III', 'aVR', 'aVL', 'aVF', 'V1', 'V2', 'V3', 'V4', 'V5', 'V6']\n",
    "ecgno = np.load('/storage/shared/ecg/ecgno_final.npy')\n",
    "print(len(ecgno))\n",
    "\n",
    "dtw_ecgs = np.random.choice(ecgno, 100000)\n",
    "train_id = dtw_ecgs[:60000]\n",
    "val_id = dtw_ecgs[60000:80000]\n",
    "test_id = dtw_ecgs[80000:]\n",
    "\n",
    "manhattan_distance = lambda x, y: np.abs(x - y)\n",
    "\n",
    "def load_ecg(\n",
    "    hd5: h5py.File, date: str,\n",
    "    target_length: int = 2500, \n",
    "    leads: List[str] = ALL_LEADS,\n",
    "):\n",
    "    out = np.empty((target_length, len(leads)))\n",
    "    for i, lead in enumerate(leads):\n",
    "        lead_array = hd5[\"ecg\"][date][lead][()]\n",
    "        out[:, i] = np.interp(\n",
    "            np.linspace(0, 1, target_length),\n",
    "            np.linspace(0, 1, lead_array.shape[0]),\n",
    "            lead_array,\n",
    "        )\n",
    "    return out"
   ]
  },
  {
   "cell_type": "code",
   "execution_count": null,
   "id": "51c64496",
   "metadata": {},
   "outputs": [],
   "source": [
    "ecg1_id = ecgno[0]\n",
    "ecg2_id = ecgno[1]\n",
    "with h5py.File(\"/storage/shared/ecg/{}/{}.hd5\".format(ecg1_id.split('_')[0], ecg1_id.split('_')[1]), \"r\") as hd5:\n",
    "    print('loaded hd5')\n",
    "    ecg1 = load_ecg(hd5, ecg1_id.split('_')[-1])\n",
    "with h5py.File(\"/storage/shared/ecg/{}/{}.hd5\".format(ecg2_id.split('_')[0], ecg2_id.split('_')[1]), \"r\") as hd5:\n",
    "    ecg2 = load_ecg(hd5, ecg2_id.split('_')[-1])\n",
    "for i in range(12):\n",
    "    plt.plot(ecg1[:,i].T)\n",
    "    plt.show()"
   ]
  },
  {
   "cell_type": "code",
   "execution_count": null,
   "id": "e244af01",
   "metadata": {},
   "outputs": [],
   "source": [
    "print(ecg1.shape, ecg2.shape)"
   ]
  },
  {
   "cell_type": "markdown",
   "id": "d17de0d8",
   "metadata": {},
   "source": [
    "# Euclidean Distance between two ECGs"
   ]
  },
  {
   "cell_type": "code",
   "execution_count": 34,
   "id": "eeb52330",
   "metadata": {},
   "outputs": [],
   "source": [
    "# distance functions\n",
    "def get_euclidean(ecg1, ecg2): # squared Euclidean distance\n",
    "    assert len(ecg1) == len(ecg2), \"Can't compute Euclidean distance on different-dimensional points\"\n",
    "    squared_euc =  (ecg1-ecg2)**2\n",
    "    \n",
    "    print(squared_euc)\n",
    "    print(squared_euc.shape)\n",
    "    print(np.sqrt(squared_euc).shape)\n",
    "    print(np.mean(np.sqrt(squared_euc)))\n",
    "    \n",
    "    return np.mean(np.sqrt(squared_euc))"
   ]
  },
  {
   "cell_type": "code",
   "execution_count": null,
   "id": "db3fc363",
   "metadata": {},
   "outputs": [],
   "source": [
    "get_euclidean(ecg1, ecg2)"
   ]
  },
  {
   "cell_type": "code",
   "execution_count": null,
   "id": "daf6d342",
   "metadata": {},
   "outputs": [],
   "source": []
  }
 ],
 "metadata": {
  "kernelspec": {
   "display_name": "Python 3 (ipykernel)",
   "language": "python",
   "name": "python3"
  },
  "language_info": {
   "codemirror_mode": {
    "name": "ipython",
    "version": 3
   },
   "file_extension": ".py",
   "mimetype": "text/x-python",
   "name": "python",
   "nbconvert_exporter": "python",
   "pygments_lexer": "ipython3",
   "version": "3.9.13"
  }
 },
 "nbformat": 4,
 "nbformat_minor": 5
}
